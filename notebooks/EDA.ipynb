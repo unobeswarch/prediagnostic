{
 "cells": [
  {
   "cell_type": "markdown",
   "id": "b646e5a5",
   "metadata": {},
   "source": [
    "# Pneumonia Prediction Model - Exploratory Data Analysis\n",
    "\n",
    "This notebook demonstrates how to use the pneumonia prediction model and explore its capabilities."
   ]
  },
  {
   "cell_type": "code",
   "execution_count": null,
   "id": "28443587",
   "metadata": {},
   "outputs": [],
   "source": [
    "# Import required libraries\n",
    "import sys\n",
    "import os\n",
    "sys.path.append('..')\n",
    "\n",
    "import numpy as np\n",
    "import matplotlib.pyplot as plt\n",
    "from PIL import Image\n",
    "import requests\n",
    "from io import BytesIO\n",
    "\n",
    "# Import our modules\n",
    "from src.models.model import PneumoniaModel\n",
    "from src.inference.predictor import PneumoniaPredictor\n",
    "from src.models.utils import preprocess_image, resize_image"
   ]
  },
  {
   "cell_type": "code",
   "execution_count": null,
   "id": "027a078a",
   "metadata": {},
   "outputs": [],
   "source": [
    "# Initialize the model\n",
    "model = PneumoniaModel()\n",
    "model.load_model()\n",
    "\n",
    "print(f\"Model loaded: {model.is_loaded()}\")\n",
    "print(f\"Class labels: {model.class_labels}\")"
   ]
  },
  {
   "cell_type": "code",
   "execution_count": null,
   "id": "33828635",
   "metadata": {},
   "outputs": [],
   "source": [
    "# Initialize the predictor\n",
    "predictor = PneumoniaPredictor()\n",
    "\n",
    "# Check health\n",
    "health = predictor.health_check()\n",
    "print(health)"
   ]
  },
  {
   "cell_type": "code",
   "execution_count": null,
   "id": "1cd31b14",
   "metadata": {},
   "outputs": [],
   "source": [
    "# Create a sample image for testing\n",
    "def create_sample_image(size=(500, 720), mode='RGB'):\n",
    "    \"\"\"Create a sample image for testing.\"\"\"\n",
    "    if mode == 'RGB':\n",
    "        image_array = np.random.randint(0, 256, (*size[::-1], 3), dtype=np.uint8)\n",
    "    else:\n",
    "        image_array = np.random.randint(0, 256, size[::-1], dtype=np.uint8)\n",
    "    return Image.fromarray(image_array, mode=mode)\n",
    "\n",
    "# Create and display a sample image\n",
    "sample_image = create_sample_image()\n",
    "plt.figure(figsize=(8, 6))\n",
    "plt.imshow(sample_image)\n",
    "plt.title(\"Sample Image for Testing\")\n",
    "plt.axis('off')\n",
    "plt.show()\n",
    "\n",
    "print(f\"Sample image size: {sample_image.size}\")\n",
    "print(f\"Sample image mode: {sample_image.mode}\")"
   ]
  },
  {
   "cell_type": "code",
   "execution_count": null,
   "id": "80b056c2",
   "metadata": {},
   "outputs": [],
   "source": [
    "# Test image preprocessing\n",
    "preprocessed = preprocess_image(sample_image, verbose=True)\n",
    "print(f\"Preprocessed image shape: {preprocessed.shape}\")\n",
    "print(f\"Value range: [{preprocessed.min():.3f}, {preprocessed.max():.3f}]\")"
   ]
  },
  {
   "cell_type": "code",
   "execution_count": null,
   "id": "2831d534",
   "metadata": {},
   "outputs": [],
   "source": [
    "# Make a prediction\n",
    "result = predictor.predict_from_image(sample_image)\n",
    "\n",
    "print(\"Prediction Results:\")\n",
    "print(f\"Prediction ID: {result['prediction_id']}\")\n",
    "print(f\"Predicted Class: {result['predicted_class']}\")\n",
    "print(f\"Confidence: {result['confidence']:.3f}\")\n",
    "print(f\"All predictions: {[f'{p:.3f}' for p in result['predictions'][0]]}\")"
   ]
  },
  {
   "cell_type": "code",
   "execution_count": null,
   "id": "56c073ac",
   "metadata": {},
   "outputs": [],
   "source": [
    "# Visualize prediction probabilities\n",
    "predictions = result['predictions'][0]\n",
    "classes = model.class_labels\n",
    "\n",
    "plt.figure(figsize=(10, 6))\n",
    "bars = plt.bar(classes, predictions, color=['green', 'orange', 'red'])\n",
    "plt.title('Pneumonia Prediction Probabilities')\n",
    "plt.ylabel('Probability')\n",
    "plt.ylim(0, 1)\n",
    "\n",
    "# Add value labels on bars\n",
    "for bar, prob in zip(bars, predictions):\n",
    "    plt.text(bar.get_x() + bar.get_width()/2, bar.get_height() + 0.01, \n",
    "             f'{prob:.3f}', ha='center', va='bottom')\n",
    "\n",
    "plt.tight_layout()\n",
    "plt.show()"
   ]
  },
  {
   "cell_type": "code",
   "execution_count": null,
   "id": "df114100",
   "metadata": {},
   "outputs": [],
   "source": [
    "# Test API endpoints (if server is running)\n",
    "def test_api_endpoints():\n",
    "    \"\"\"Test the API endpoints if server is running.\"\"\"\n",
    "    base_url = \"http://localhost:8000/api/v1\"\n",
    "    \n",
    "    try:\n",
    "        # Test health endpoint\n",
    "        response = requests.get(f\"{base_url}/health\", timeout=5)\n",
    "        print(f\"Health check status: {response.status_code}\")\n",
    "        print(f\"Health response: {response.json()}\")\n",
    "        \n",
    "        # Test info endpoint\n",
    "        response = requests.get(f\"{base_url}/info\", timeout=5)\n",
    "        print(f\"Info status: {response.status_code}\")\n",
    "        print(f\"Service info: {response.json()}\")\n",
    "        \n",
    "        return True\n",
    "        \n",
    "    except requests.exceptions.RequestException as e:\n",
    "        print(f\"API not available: {e}\")\n",
    "        print(\"Start the server with: python cmd/server.py\")\n",
    "        return False\n",
    "\n",
    "# Test the API\n",
    "api_available = test_api_endpoints()"
   ]
  },
  {
   "cell_type": "code",
   "execution_count": null,
   "id": "ea8b89ba",
   "metadata": {},
   "outputs": [],
   "source": [
    "# Test prediction API if available\n",
    "if api_available:\n",
    "    # Convert sample image to bytes\n",
    "    img_bytes = BytesIO()\n",
    "    sample_image.save(img_bytes, format='JPEG')\n",
    "    img_bytes.seek(0)\n",
    "    \n",
    "    # Make API request\n",
    "    files = {'file': ('test.jpg', img_bytes.getvalue(), 'image/jpeg')}\n",
    "    response = requests.post(\"http://localhost:8000/api/v1/predict\", files=files)\n",
    "    \n",
    "    if response.status_code == 200:\n",
    "        api_result = response.json()\n",
    "        print(\"API Prediction Results:\")\n",
    "        print(f\"Predicted Class: {api_result['predicted_class']}\")\n",
    "        print(f\"Confidence: {api_result['confidence']:.3f}\")\n",
    "    else:\n",
    "        print(f\"API request failed: {response.status_code}\")\n",
    "        print(response.text)\n",
    "else:\n",
    "    print(\"API not available for testing\")"
   ]
  }
 ],
 "metadata": {
  "language_info": {
   "name": "python"
  }
 },
 "nbformat": 4,
 "nbformat_minor": 5
}
